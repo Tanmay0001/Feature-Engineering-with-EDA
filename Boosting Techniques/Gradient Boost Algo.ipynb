{
 "cells": [
  {
   "cell_type": "code",
   "execution_count": 11,
   "id": "93c77d3e-275b-4629-85b5-d16970d5810a",
   "metadata": {},
   "outputs": [],
   "source": [
    "from sklearn.ensemble import GradientBoostingRegressor\n",
    "import numpy as np\n",
    "import pandas as pd\n",
    "from sklearn.model_selection import train_test_split\n",
    "from sklearn.metrics import mean_squared_error, mean_absolute_error, r2_score\n",
    "import warnings\n",
    "from sklearn.datasets import fetch_california_housing\n",
    "warnings.filterwarnings('ignore')"
   ]
  },
  {
   "cell_type": "markdown",
   "id": "fffb95ce-54f9-49d9-89c4-a91d043c9ef5",
   "metadata": {},
   "source": [
    "# Data Preparation"
   ]
  },
  {
   "cell_type": "code",
   "execution_count": 3,
   "id": "6c735ca2-300f-4b94-99c6-7b19f06c07b2",
   "metadata": {},
   "outputs": [],
   "source": [
    "# Load the California housing dataset\n",
    "data = fetch_california_housing()\n",
    "\n",
    "# Create a DataFrame for features and target\n",
    "X = pd.DataFrame(data.data, columns=data.feature_names)\n",
    "y = pd.Series(data.target)"
   ]
  },
  {
   "cell_type": "code",
   "execution_count": 4,
   "id": "6d4ceba2-c712-4a25-a50d-884a7415278a",
   "metadata": {},
   "outputs": [
    {
     "data": {
      "text/html": [
       "<div>\n",
       "<style scoped>\n",
       "    .dataframe tbody tr th:only-of-type {\n",
       "        vertical-align: middle;\n",
       "    }\n",
       "\n",
       "    .dataframe tbody tr th {\n",
       "        vertical-align: top;\n",
       "    }\n",
       "\n",
       "    .dataframe thead th {\n",
       "        text-align: right;\n",
       "    }\n",
       "</style>\n",
       "<table border=\"1\" class=\"dataframe\">\n",
       "  <thead>\n",
       "    <tr style=\"text-align: right;\">\n",
       "      <th></th>\n",
       "      <th>MedInc</th>\n",
       "      <th>HouseAge</th>\n",
       "      <th>AveRooms</th>\n",
       "      <th>AveBedrms</th>\n",
       "      <th>Population</th>\n",
       "      <th>AveOccup</th>\n",
       "      <th>Latitude</th>\n",
       "      <th>Longitude</th>\n",
       "    </tr>\n",
       "  </thead>\n",
       "  <tbody>\n",
       "    <tr>\n",
       "      <th>0</th>\n",
       "      <td>8.3252</td>\n",
       "      <td>41.0</td>\n",
       "      <td>6.984127</td>\n",
       "      <td>1.023810</td>\n",
       "      <td>322.0</td>\n",
       "      <td>2.555556</td>\n",
       "      <td>37.88</td>\n",
       "      <td>-122.23</td>\n",
       "    </tr>\n",
       "    <tr>\n",
       "      <th>1</th>\n",
       "      <td>8.3014</td>\n",
       "      <td>21.0</td>\n",
       "      <td>6.238137</td>\n",
       "      <td>0.971880</td>\n",
       "      <td>2401.0</td>\n",
       "      <td>2.109842</td>\n",
       "      <td>37.86</td>\n",
       "      <td>-122.22</td>\n",
       "    </tr>\n",
       "    <tr>\n",
       "      <th>2</th>\n",
       "      <td>7.2574</td>\n",
       "      <td>52.0</td>\n",
       "      <td>8.288136</td>\n",
       "      <td>1.073446</td>\n",
       "      <td>496.0</td>\n",
       "      <td>2.802260</td>\n",
       "      <td>37.85</td>\n",
       "      <td>-122.24</td>\n",
       "    </tr>\n",
       "    <tr>\n",
       "      <th>3</th>\n",
       "      <td>5.6431</td>\n",
       "      <td>52.0</td>\n",
       "      <td>5.817352</td>\n",
       "      <td>1.073059</td>\n",
       "      <td>558.0</td>\n",
       "      <td>2.547945</td>\n",
       "      <td>37.85</td>\n",
       "      <td>-122.25</td>\n",
       "    </tr>\n",
       "    <tr>\n",
       "      <th>4</th>\n",
       "      <td>3.8462</td>\n",
       "      <td>52.0</td>\n",
       "      <td>6.281853</td>\n",
       "      <td>1.081081</td>\n",
       "      <td>565.0</td>\n",
       "      <td>2.181467</td>\n",
       "      <td>37.85</td>\n",
       "      <td>-122.25</td>\n",
       "    </tr>\n",
       "  </tbody>\n",
       "</table>\n",
       "</div>"
      ],
      "text/plain": [
       "   MedInc  HouseAge  AveRooms  AveBedrms  Population  AveOccup  Latitude  \\\n",
       "0  8.3252      41.0  6.984127   1.023810       322.0  2.555556     37.88   \n",
       "1  8.3014      21.0  6.238137   0.971880      2401.0  2.109842     37.86   \n",
       "2  7.2574      52.0  8.288136   1.073446       496.0  2.802260     37.85   \n",
       "3  5.6431      52.0  5.817352   1.073059       558.0  2.547945     37.85   \n",
       "4  3.8462      52.0  6.281853   1.081081       565.0  2.181467     37.85   \n",
       "\n",
       "   Longitude  \n",
       "0    -122.23  \n",
       "1    -122.22  \n",
       "2    -122.24  \n",
       "3    -122.25  \n",
       "4    -122.25  "
      ]
     },
     "execution_count": 4,
     "metadata": {},
     "output_type": "execute_result"
    }
   ],
   "source": [
    "X.head() # predictor"
   ]
  },
  {
   "cell_type": "code",
   "execution_count": 5,
   "id": "cf638b61-6466-4abf-97aa-5f4151870fc0",
   "metadata": {},
   "outputs": [
    {
     "data": {
      "text/plain": [
       "1    3.585\n",
       "2    3.521\n",
       "3    3.413\n",
       "4    3.422\n",
       "5    2.697\n",
       "6    2.992\n",
       "7    2.414\n",
       "8    2.267\n",
       "9    2.611\n",
       "dtype: float64"
      ]
     },
     "execution_count": 5,
     "metadata": {},
     "output_type": "execute_result"
    }
   ],
   "source": [
    "y[1:10] # response"
   ]
  },
  {
   "cell_type": "code",
   "execution_count": 6,
   "id": "82eb988c-a762-4839-81a0-1728bf348585",
   "metadata": {},
   "outputs": [],
   "source": [
    "# Split the dataset into training and testing sets\n",
    "X_train, X_test, y_train, y_test = train_test_split(X, y, test_size=0.2, random_state=42)\n"
   ]
  },
  {
   "cell_type": "markdown",
   "id": "26c45921-421b-4dcf-9a5a-424c2dbd35b8",
   "metadata": {},
   "source": [
    "# Model training and evalation"
   ]
  },
  {
   "cell_type": "code",
   "execution_count": 15,
   "id": "614fa73f-eb90-46e9-9162-127bd57296ba",
   "metadata": {},
   "outputs": [],
   "source": [
    "from sklearn.ensemble import GradientBoostingRegressor\n",
    "\n",
    "# Creating GradientBoosting Regressor\n",
    "gradientregressor = GradientBoostingRegressor(max_depth=2, n_estimators=100, learning_rate=1.0)\n"
   ]
  },
  {
   "cell_type": "raw",
   "id": "d05e5e7e-fb0e-483f-a244-b4f9763b4e1f",
   "metadata": {},
   "source": [
    "# n_estimator = no. of weak learner to train recrsively\n",
    "# lr = it contributes to weight  of weak learner"
   ]
  },
  {
   "cell_type": "code",
   "execution_count": 16,
   "id": "74eaca65-9e91-4f13-a0a9-b176193b422d",
   "metadata": {},
   "outputs": [],
   "source": [
    "# creating Gradientboost REGRESSOR\n",
    "model = gradientregressor.fit(X_train, y_train)\n",
    "\n",
    "# predict the response for the test dataset\n",
    "y_pred = model.predict(X_test)"
   ]
  },
  {
   "cell_type": "code",
   "execution_count": 17,
   "id": "63848d83-833e-412e-8e88-7a0a6f315727",
   "metadata": {},
   "outputs": [
    {
     "data": {
      "text/plain": [
       "0.7525246227333553"
      ]
     },
     "execution_count": 17,
     "metadata": {},
     "output_type": "execute_result"
    }
   ],
   "source": [
    "r2_score(y_pred, y_test)"
   ]
  },
  {
   "cell_type": "code",
   "execution_count": 18,
   "id": "4c136efc-0d72-419f-a234-1dda70f63cde",
   "metadata": {},
   "outputs": [
    {
     "data": {
      "image/png": "[encoded data removed]",
      "text/plain": [
       "<Figure size 640x480 with 1 Axes>"
      ]
     },
     "metadata": {},
     "output_type": "display_data"
    }
   ],
   "source": [
    "import matplotlib.pyplot as plt\n",
    "%matplotlib inline\n",
    "\n",
    "# Plot feature importance\n",
    "feature_importance = gradientregressor.feature_importances_\n",
    "sorted_idx = np.argsort(feature_importance)\n",
    "plt.barh(X.columns[sorted_idx], feature_importance[sorted_idx])\n",
    "plt.xlabel(\"Gradient Boosting Feature Importance\")\n",
    "plt.show()\n"
   ]
  },
  {
   "cell_type": "markdown",
   "id": "d8c7e409-5de6-45b2-bf3a-01cf134e3b8b",
   "metadata": {},
   "source": [
    "# Hyperparameter Tuning"
   ]
  },
  {
   "cell_type": "code",
   "execution_count": 21,
   "id": "693efc5b-915e-4e12-9a8d-17b821e90f9b",
   "metadata": {},
   "outputs": [
    {
     "data": {
      "text/plain": [
       "({'learning_rate': 0.15, 'n_estimators': 250}, 0.8204005555323338)"
      ]
     },
     "execution_count": 21,
     "metadata": {},
     "output_type": "execute_result"
    }
   ],
   "source": [
    "# Define the hyperparameter grid\n",
    "LR = {'learning_rate': [0.15, 0.1, 0.05],  # Corrected duplicates\n",
    "    'n_estimators': [100, 150, 200, 250]}\n",
    "\n",
    "# Create a GradientBoostingRegressor instance\n",
    "gbr = GradientBoostingRegressor()\n",
    "\n",
    "# Create the GridSearchCV object\n",
    "tuning = GridSearchCV(estimator=gbr,\n",
    "                      param_grid=LR, scoring='r2') \n",
    "# Fit the model\n",
    "tuning.fit(X_train, y_train)\n",
    "tuning.best_params_, tuning.best_score_"
   ]
  },
  {
   "cell_type": "markdown",
   "id": "ab67293a-d5c3-49fe-b678-e51cd85a9e24",
   "metadata": {},
   "source": [
    "# similalry other hyperameter like max_depth, split criteria, min no leaf nodes etc can be tuned"
   ]
  },
  {
   "cell_type": "code",
   "execution_count": null,
   "id": "711c9fc2-ebd3-4932-8669-bcf3ee024f1d",
   "metadata": {},
   "outputs": [],
   "source": []
  }
 ],
 "metadata": {
  "kernelspec": {
   "display_name": "Python 3 (ipykernel)",
   "language": "python",
   "name": "python3"
  },
  "language_info": {
   "codemirror_mode": {
    "name": "ipython",
    "version": 3
   },
   "file_extension": ".py",
   "mimetype": "text/x-python",
   "name": "python",
   "nbconvert_exporter": "python",
   "pygments_lexer": "ipython3",
   "version": "3.11.7"
  }
 },
 "nbformat": 4,
 "nbformat_minor": 5
}
